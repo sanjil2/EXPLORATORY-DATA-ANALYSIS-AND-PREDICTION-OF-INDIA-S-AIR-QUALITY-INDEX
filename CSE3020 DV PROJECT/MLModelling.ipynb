{
 "cells": [
  {
   "cell_type": "code",
   "execution_count": null,
   "id": "68dae98a",
   "metadata": {},
   "outputs": [],
   "source": [
    "import pandas as pd\n",
    "import numpy as np\n",
    "import seaborn as sns\n",
    "import matplotlib.pyplot as plt\n",
    "%matplotlib inline"
   ]
  },
  {
   "cell_type": "code",
   "execution_count": 3,
   "id": "24643223",
   "metadata": {},
   "outputs": [
    {
     "name": "stdout",
     "output_type": "stream",
     "text": [
      "# conda environments:\n",
      "#\n",
      "base                     D:\\Anaconda\n",
      "Quantum                  D:\\Anaconda\\envs\\Quantum\n",
      "Tensorflow            *  D:\\Anaconda\\envs\\Tensorflow\n",
      "\n"
     ]
    }
   ],
   "source": [
    "!conda info --envs"
   ]
  },
  {
   "cell_type": "code",
   "execution_count": 5,
   "id": "8f62f8cf",
   "metadata": {},
   "outputs": [
    {
     "data": {
      "text/html": [
       "<div>\n",
       "<style scoped>\n",
       "    .dataframe tbody tr th:only-of-type {\n",
       "        vertical-align: middle;\n",
       "    }\n",
       "\n",
       "    .dataframe tbody tr th {\n",
       "        vertical-align: top;\n",
       "    }\n",
       "\n",
       "    .dataframe thead th {\n",
       "        text-align: right;\n",
       "    }\n",
       "</style>\n",
       "<table border=\"1\" class=\"dataframe\">\n",
       "  <thead>\n",
       "    <tr style=\"text-align: right;\">\n",
       "      <th></th>\n",
       "      <th>state</th>\n",
       "      <th>location</th>\n",
       "      <th>agency</th>\n",
       "      <th>type</th>\n",
       "      <th>spm</th>\n",
       "      <th>pm2_5</th>\n",
       "      <th>date</th>\n",
       "      <th>so2</th>\n",
       "      <th>no2</th>\n",
       "      <th>rspm</th>\n",
       "      <th>Day_of_yr</th>\n",
       "      <th>Month</th>\n",
       "      <th>SOi</th>\n",
       "      <th>NOi</th>\n",
       "      <th>RSPMi</th>\n",
       "      <th>SPMi</th>\n",
       "      <th>AQI</th>\n",
       "      <th>AQI_Range</th>\n",
       "    </tr>\n",
       "  </thead>\n",
       "  <tbody>\n",
       "    <tr>\n",
       "      <th>0</th>\n",
       "      <td>Andhra Pradesh</td>\n",
       "      <td>Hyderabad</td>\n",
       "      <td>unknown</td>\n",
       "      <td>Residential, Rural and other Areas</td>\n",
       "      <td>0.0</td>\n",
       "      <td>0.0</td>\n",
       "      <td>1990-02-01</td>\n",
       "      <td>4.8</td>\n",
       "      <td>17.4</td>\n",
       "      <td>78.182824</td>\n",
       "      <td>32</td>\n",
       "      <td>2</td>\n",
       "      <td>6.000</td>\n",
       "      <td>21.750</td>\n",
       "      <td>0</td>\n",
       "      <td>0.0</td>\n",
       "      <td>21.750</td>\n",
       "      <td>Good</td>\n",
       "    </tr>\n",
       "    <tr>\n",
       "      <th>1</th>\n",
       "      <td>Andhra Pradesh</td>\n",
       "      <td>Hyderabad</td>\n",
       "      <td>unknown</td>\n",
       "      <td>Industrial Area</td>\n",
       "      <td>0.0</td>\n",
       "      <td>0.0</td>\n",
       "      <td>1990-02-01</td>\n",
       "      <td>3.1</td>\n",
       "      <td>7.0</td>\n",
       "      <td>78.182824</td>\n",
       "      <td>32</td>\n",
       "      <td>2</td>\n",
       "      <td>3.875</td>\n",
       "      <td>8.750</td>\n",
       "      <td>0</td>\n",
       "      <td>0.0</td>\n",
       "      <td>8.750</td>\n",
       "      <td>Good</td>\n",
       "    </tr>\n",
       "    <tr>\n",
       "      <th>2</th>\n",
       "      <td>Andhra Pradesh</td>\n",
       "      <td>Hyderabad</td>\n",
       "      <td>unknown</td>\n",
       "      <td>Residential, Rural and other Areas</td>\n",
       "      <td>0.0</td>\n",
       "      <td>0.0</td>\n",
       "      <td>1990-02-01</td>\n",
       "      <td>6.2</td>\n",
       "      <td>28.5</td>\n",
       "      <td>78.182824</td>\n",
       "      <td>32</td>\n",
       "      <td>2</td>\n",
       "      <td>7.750</td>\n",
       "      <td>35.625</td>\n",
       "      <td>0</td>\n",
       "      <td>0.0</td>\n",
       "      <td>35.625</td>\n",
       "      <td>Good</td>\n",
       "    </tr>\n",
       "    <tr>\n",
       "      <th>3</th>\n",
       "      <td>Andhra Pradesh</td>\n",
       "      <td>Hyderabad</td>\n",
       "      <td>unknown</td>\n",
       "      <td>Residential, Rural and other Areas</td>\n",
       "      <td>0.0</td>\n",
       "      <td>0.0</td>\n",
       "      <td>1990-03-01</td>\n",
       "      <td>6.3</td>\n",
       "      <td>14.7</td>\n",
       "      <td>78.182824</td>\n",
       "      <td>60</td>\n",
       "      <td>3</td>\n",
       "      <td>7.875</td>\n",
       "      <td>18.375</td>\n",
       "      <td>0</td>\n",
       "      <td>0.0</td>\n",
       "      <td>18.375</td>\n",
       "      <td>Good</td>\n",
       "    </tr>\n",
       "    <tr>\n",
       "      <th>4</th>\n",
       "      <td>Andhra Pradesh</td>\n",
       "      <td>Hyderabad</td>\n",
       "      <td>unknown</td>\n",
       "      <td>Industrial Area</td>\n",
       "      <td>0.0</td>\n",
       "      <td>0.0</td>\n",
       "      <td>1990-03-01</td>\n",
       "      <td>4.7</td>\n",
       "      <td>7.5</td>\n",
       "      <td>78.182824</td>\n",
       "      <td>60</td>\n",
       "      <td>3</td>\n",
       "      <td>5.875</td>\n",
       "      <td>9.375</td>\n",
       "      <td>0</td>\n",
       "      <td>0.0</td>\n",
       "      <td>9.375</td>\n",
       "      <td>Good</td>\n",
       "    </tr>\n",
       "  </tbody>\n",
       "</table>\n",
       "</div>"
      ],
      "text/plain": [
       "            state   location   agency                                type  \\\n",
       "0  Andhra Pradesh  Hyderabad  unknown  Residential, Rural and other Areas   \n",
       "1  Andhra Pradesh  Hyderabad  unknown                     Industrial Area   \n",
       "2  Andhra Pradesh  Hyderabad  unknown  Residential, Rural and other Areas   \n",
       "3  Andhra Pradesh  Hyderabad  unknown  Residential, Rural and other Areas   \n",
       "4  Andhra Pradesh  Hyderabad  unknown                     Industrial Area   \n",
       "\n",
       "   spm  pm2_5        date  so2   no2       rspm  Day_of_yr  Month    SOi  \\\n",
       "0  0.0    0.0  1990-02-01  4.8  17.4  78.182824         32      2  6.000   \n",
       "1  0.0    0.0  1990-02-01  3.1   7.0  78.182824         32      2  3.875   \n",
       "2  0.0    0.0  1990-02-01  6.2  28.5  78.182824         32      2  7.750   \n",
       "3  0.0    0.0  1990-03-01  6.3  14.7  78.182824         60      3  7.875   \n",
       "4  0.0    0.0  1990-03-01  4.7   7.5  78.182824         60      3  5.875   \n",
       "\n",
       "      NOi  RSPMi  SPMi     AQI AQI_Range  \n",
       "0  21.750      0   0.0  21.750      Good  \n",
       "1   8.750      0   0.0   8.750      Good  \n",
       "2  35.625      0   0.0  35.625      Good  \n",
       "3  18.375      0   0.0  18.375      Good  \n",
       "4   9.375      0   0.0   9.375      Good  "
      ]
     },
     "execution_count": 5,
     "metadata": {},
     "output_type": "execute_result"
    }
   ],
   "source": [
    "df = pd.read_csv(\"PreprocessedinR.csv\", encoding = \"cp1252\", low_memory=False)\n",
    "df.head()"
   ]
  },
  {
   "cell_type": "code",
   "execution_count": 15,
   "id": "5b4824df",
   "metadata": {},
   "outputs": [
    {
     "data": {
      "text/plain": [
       "Maharashtra                    60384\n",
       "Uttar Pradesh                  42816\n",
       "Andhra Pradesh                 26368\n",
       "Punjab                         25634\n",
       "Rajasthan                      25589\n",
       "Kerala                         24728\n",
       "Himachal Pradesh               22896\n",
       "West Bengal                    22463\n",
       "Gujarat                        21279\n",
       "Tamil Nadu                     20597\n",
       "Madhya Pradesh                 19920\n",
       "Assam                          19361\n",
       "Odisha                         19279\n",
       "Karnataka                      17119\n",
       "Delhi                           8551\n",
       "Chandigarh                      8520\n",
       "Chhattisgarh                    7831\n",
       "Goa                             6206\n",
       "Jharkhand                       5968\n",
       "Mizoram                         5338\n",
       "Telangana                       3978\n",
       "Meghalaya                       3853\n",
       "Puducherry                      3785\n",
       "Haryana                         3420\n",
       "Nagaland                        2463\n",
       "Bihar                           2275\n",
       "Uttarakhand                     1961\n",
       "Jammu & Kashmir                 1289\n",
       "Daman & Diu                      782\n",
       "Dadra & Nagar Haveli             634\n",
       "Uttaranchal                      285\n",
       "Arunachal Pradesh                 90\n",
       "Manipur                           76\n",
       "Sikkim                             1\n",
       "andaman-and-nicobar-islands        1\n",
       "Lakshadweep                        1\n",
       "Tripura                            1\n",
       "Name: state, dtype: int64"
      ]
     },
     "execution_count": 15,
     "metadata": {},
     "output_type": "execute_result"
    }
   ],
   "source": [
    "df['state'].value_counts()"
   ]
  },
  {
   "cell_type": "code",
   "execution_count": 20,
   "id": "373d8eec",
   "metadata": {},
   "outputs": [
    {
     "data": {
      "text/plain": [
       "<seaborn.axisgrid.PairGrid at 0x18d410a2730>"
      ]
     },
     "execution_count": 20,
     "metadata": {},
     "output_type": "execute_result"
    },
    {
     "data": {
      "image/png": "[encoded data removed]",
      "text/plain": [
       "<Figure size 900x900 with 30 Axes>"
      ]
     },
     "metadata": {
      "needs_background": "light"
     },
     "output_type": "display_data"
    }
   ],
   "source": [
    "sns.pairplot(data = df)"
   ]
  },
  {
   "cell_type": "code",
   "execution_count": 12,
   "id": "d36f38ce",
   "metadata": {
    "scrolled": true
   },
   "outputs": [],
   "source": [
    "#MODELS:\n",
    "\n",
    "#REGRESSION MODELS."
   ]
  },
  {
   "cell_type": "code",
   "execution_count": 13,
   "id": "377792fd",
   "metadata": {},
   "outputs": [],
   "source": [
    "df.rename(columns = {\"Day_of_yr\":\"Day_Of_Year\"}, inplace=True)"
   ]
  },
  {
   "cell_type": "code",
   "execution_count": 22,
   "id": "981d13a7",
   "metadata": {},
   "outputs": [],
   "source": [
    "df.rename(columns = {\"RSPMi\":\"Rpi\"}, inplace=True)"
   ]
  },
  {
   "cell_type": "code",
   "execution_count": 23,
   "id": "2de1fa4e",
   "metadata": {},
   "outputs": [
    {
     "data": {
      "text/html": [
       "<div>\n",
       "<style scoped>\n",
       "    .dataframe tbody tr th:only-of-type {\n",
       "        vertical-align: middle;\n",
       "    }\n",
       "\n",
       "    .dataframe tbody tr th {\n",
       "        vertical-align: top;\n",
       "    }\n",
       "\n",
       "    .dataframe thead th {\n",
       "        text-align: right;\n",
       "    }\n",
       "</style>\n",
       "<table border=\"1\" class=\"dataframe\">\n",
       "  <thead>\n",
       "    <tr style=\"text-align: right;\">\n",
       "      <th></th>\n",
       "      <th>state</th>\n",
       "      <th>location</th>\n",
       "      <th>agency</th>\n",
       "      <th>type</th>\n",
       "      <th>spm</th>\n",
       "      <th>pm2_5</th>\n",
       "      <th>date</th>\n",
       "      <th>so2</th>\n",
       "      <th>no2</th>\n",
       "      <th>rspm</th>\n",
       "      <th>Day_Of_Year</th>\n",
       "      <th>Month</th>\n",
       "      <th>SOi</th>\n",
       "      <th>Noi</th>\n",
       "      <th>Rpi</th>\n",
       "      <th>SPMi</th>\n",
       "      <th>AQI</th>\n",
       "      <th>AQI_Range</th>\n",
       "    </tr>\n",
       "  </thead>\n",
       "  <tbody>\n",
       "    <tr>\n",
       "      <th>0</th>\n",
       "      <td>Andhra Pradesh</td>\n",
       "      <td>Hyderabad</td>\n",
       "      <td>unknown</td>\n",
       "      <td>Residential, Rural and other Areas</td>\n",
       "      <td>0.0</td>\n",
       "      <td>0.0</td>\n",
       "      <td>1990-02-01</td>\n",
       "      <td>4.8</td>\n",
       "      <td>17.4</td>\n",
       "      <td>78.182824</td>\n",
       "      <td>32</td>\n",
       "      <td>2</td>\n",
       "      <td>6.000</td>\n",
       "      <td>21.750</td>\n",
       "      <td>0</td>\n",
       "      <td>0.0</td>\n",
       "      <td>21.750</td>\n",
       "      <td>Good</td>\n",
       "    </tr>\n",
       "    <tr>\n",
       "      <th>1</th>\n",
       "      <td>Andhra Pradesh</td>\n",
       "      <td>Hyderabad</td>\n",
       "      <td>unknown</td>\n",
       "      <td>Industrial Area</td>\n",
       "      <td>0.0</td>\n",
       "      <td>0.0</td>\n",
       "      <td>1990-02-01</td>\n",
       "      <td>3.1</td>\n",
       "      <td>7.0</td>\n",
       "      <td>78.182824</td>\n",
       "      <td>32</td>\n",
       "      <td>2</td>\n",
       "      <td>3.875</td>\n",
       "      <td>8.750</td>\n",
       "      <td>0</td>\n",
       "      <td>0.0</td>\n",
       "      <td>8.750</td>\n",
       "      <td>Good</td>\n",
       "    </tr>\n",
       "    <tr>\n",
       "      <th>2</th>\n",
       "      <td>Andhra Pradesh</td>\n",
       "      <td>Hyderabad</td>\n",
       "      <td>unknown</td>\n",
       "      <td>Residential, Rural and other Areas</td>\n",
       "      <td>0.0</td>\n",
       "      <td>0.0</td>\n",
       "      <td>1990-02-01</td>\n",
       "      <td>6.2</td>\n",
       "      <td>28.5</td>\n",
       "      <td>78.182824</td>\n",
       "      <td>32</td>\n",
       "      <td>2</td>\n",
       "      <td>7.750</td>\n",
       "      <td>35.625</td>\n",
       "      <td>0</td>\n",
       "      <td>0.0</td>\n",
       "      <td>35.625</td>\n",
       "      <td>Good</td>\n",
       "    </tr>\n",
       "    <tr>\n",
       "      <th>3</th>\n",
       "      <td>Andhra Pradesh</td>\n",
       "      <td>Hyderabad</td>\n",
       "      <td>unknown</td>\n",
       "      <td>Residential, Rural and other Areas</td>\n",
       "      <td>0.0</td>\n",
       "      <td>0.0</td>\n",
       "      <td>1990-03-01</td>\n",
       "      <td>6.3</td>\n",
       "      <td>14.7</td>\n",
       "      <td>78.182824</td>\n",
       "      <td>60</td>\n",
       "      <td>3</td>\n",
       "      <td>7.875</td>\n",
       "      <td>18.375</td>\n",
       "      <td>0</td>\n",
       "      <td>0.0</td>\n",
       "      <td>18.375</td>\n",
       "      <td>Good</td>\n",
       "    </tr>\n",
       "    <tr>\n",
       "      <th>4</th>\n",
       "      <td>Andhra Pradesh</td>\n",
       "      <td>Hyderabad</td>\n",
       "      <td>unknown</td>\n",
       "      <td>Industrial Area</td>\n",
       "      <td>0.0</td>\n",
       "      <td>0.0</td>\n",
       "      <td>1990-03-01</td>\n",
       "      <td>4.7</td>\n",
       "      <td>7.5</td>\n",
       "      <td>78.182824</td>\n",
       "      <td>60</td>\n",
       "      <td>3</td>\n",
       "      <td>5.875</td>\n",
       "      <td>9.375</td>\n",
       "      <td>0</td>\n",
       "      <td>0.0</td>\n",
       "      <td>9.375</td>\n",
       "      <td>Good</td>\n",
       "    </tr>\n",
       "  </tbody>\n",
       "</table>\n",
       "</div>"
      ],
      "text/plain": [
       "            state   location   agency                                type  \\\n",
       "0  Andhra Pradesh  Hyderabad  unknown  Residential, Rural and other Areas   \n",
       "1  Andhra Pradesh  Hyderabad  unknown                     Industrial Area   \n",
       "2  Andhra Pradesh  Hyderabad  unknown  Residential, Rural and other Areas   \n",
       "3  Andhra Pradesh  Hyderabad  unknown  Residential, Rural and other Areas   \n",
       "4  Andhra Pradesh  Hyderabad  unknown                     Industrial Area   \n",
       "\n",
       "   spm  pm2_5        date  so2   no2       rspm  Day_Of_Year  Month    SOi  \\\n",
       "0  0.0    0.0  1990-02-01  4.8  17.4  78.182824           32      2  6.000   \n",
       "1  0.0    0.0  1990-02-01  3.1   7.0  78.182824           32      2  3.875   \n",
       "2  0.0    0.0  1990-02-01  6.2  28.5  78.182824           32      2  7.750   \n",
       "3  0.0    0.0  1990-03-01  6.3  14.7  78.182824           60      3  7.875   \n",
       "4  0.0    0.0  1990-03-01  4.7   7.5  78.182824           60      3  5.875   \n",
       "\n",
       "      Noi  Rpi  SPMi     AQI AQI_Range  \n",
       "0  21.750    0   0.0  21.750      Good  \n",
       "1   8.750    0   0.0   8.750      Good  \n",
       "2  35.625    0   0.0  35.625      Good  \n",
       "3  18.375    0   0.0  18.375      Good  \n",
       "4   9.375    0   0.0   9.375      Good  "
      ]
     },
     "execution_count": 23,
     "metadata": {},
     "output_type": "execute_result"
    }
   ],
   "source": [
    "df.head()"
   ]
  },
  {
   "cell_type": "code",
   "execution_count": 24,
   "id": "49e897e5",
   "metadata": {},
   "outputs": [],
   "source": [
    "X=df[['SOi','Noi','Rpi','SPMi', 'Month', 'Day_Of_Year']]\n",
    "y=df['AQI']"
   ]
  },
  {
   "cell_type": "code",
   "execution_count": 25,
   "id": "3c09c512",
   "metadata": {},
   "outputs": [],
   "source": [
    "from sklearn.model_selection import train_test_split\n",
    "X_train,X_test,y_train,y_test=train_test_split(X,y,test_size=0.2,random_state=70)"
   ]
  },
  {
   "cell_type": "code",
   "execution_count": 26,
   "id": "bcdbfa16",
   "metadata": {},
   "outputs": [],
   "source": [
    "from sklearn.linear_model import LinearRegression\n",
    "from sklearn import metrics\n",
    "from sklearn.metrics import mean_absolute_error,mean_squared_error,r2_score\n",
    "from sklearn.metrics import accuracy_score,confusion_matrix"
   ]
  },
  {
   "cell_type": "code",
   "execution_count": 27,
   "id": "a6db4752",
   "metadata": {},
   "outputs": [
    {
     "data": {
      "text/html": [
       "<style>#sk-container-id-1 {color: black;background-color: white;}#sk-container-id-1 pre{padding: 0;}#sk-container-id-1 div.sk-toggleable {background-color: white;}#sk-container-id-1 label.sk-toggleable__label {cursor: pointer;display: block;width: 100%;margin-bottom: 0;padding: 0.3em;box-sizing: border-box;text-align: center;}#sk-container-id-1 label.sk-toggleable__label-arrow:before {content: \"▸\";float: left;margin-right: 0.25em;color: #696969;}#sk-container-id-1 label.sk-toggleable__label-arrow:hover:before {color: black;}#sk-container-id-1 div.sk-estimator:hover label.sk-toggleable__label-arrow:before {color: black;}#sk-container-id-1 div.sk-toggleable__content {max-height: 0;max-width: 0;overflow: hidden;text-align: left;background-color: #f0f8ff;}#sk-container-id-1 div.sk-toggleable__content pre {margin: 0.2em;color: black;border-radius: 0.25em;background-color: #f0f8ff;}#sk-container-id-1 input.sk-toggleable__control:checked~div.sk-toggleable__content {max-height: 200px;max-width: 100%;overflow: auto;}#sk-container-id-1 input.sk-toggleable__control:checked~label.sk-toggleable__label-arrow:before {content: \"▾\";}#sk-container-id-1 div.sk-estimator input.sk-toggleable__control:checked~label.sk-toggleable__label {background-color: #d4ebff;}#sk-container-id-1 div.sk-label input.sk-toggleable__control:checked~label.sk-toggleable__label {background-color: #d4ebff;}#sk-container-id-1 input.sk-hidden--visually {border: 0;clip: rect(1px 1px 1px 1px);clip: rect(1px, 1px, 1px, 1px);height: 1px;margin: -1px;overflow: hidden;padding: 0;position: absolute;width: 1px;}#sk-container-id-1 div.sk-estimator {font-family: monospace;background-color: #f0f8ff;border: 1px dotted black;border-radius: 0.25em;box-sizing: border-box;margin-bottom: 0.5em;}#sk-container-id-1 div.sk-estimator:hover {background-color: #d4ebff;}#sk-container-id-1 div.sk-parallel-item::after {content: \"\";width: 100%;border-bottom: 1px solid gray;flex-grow: 1;}#sk-container-id-1 div.sk-label:hover label.sk-toggleable__label {background-color: #d4ebff;}#sk-container-id-1 div.sk-serial::before {content: \"\";position: absolute;border-left: 1px solid gray;box-sizing: border-box;top: 0;bottom: 0;left: 50%;z-index: 0;}#sk-container-id-1 div.sk-serial {display: flex;flex-direction: column;align-items: center;background-color: white;padding-right: 0.2em;padding-left: 0.2em;position: relative;}#sk-container-id-1 div.sk-item {position: relative;z-index: 1;}#sk-container-id-1 div.sk-parallel {display: flex;align-items: stretch;justify-content: center;background-color: white;position: relative;}#sk-container-id-1 div.sk-item::before, #sk-container-id-1 div.sk-parallel-item::before {content: \"\";position: absolute;border-left: 1px solid gray;box-sizing: border-box;top: 0;bottom: 0;left: 50%;z-index: -1;}#sk-container-id-1 div.sk-parallel-item {display: flex;flex-direction: column;z-index: 1;position: relative;background-color: white;}#sk-container-id-1 div.sk-parallel-item:first-child::after {align-self: flex-end;width: 50%;}#sk-container-id-1 div.sk-parallel-item:last-child::after {align-self: flex-start;width: 50%;}#sk-container-id-1 div.sk-parallel-item:only-child::after {width: 0;}#sk-container-id-1 div.sk-dashed-wrapped {border: 1px dashed gray;margin: 0 0.4em 0.5em 0.4em;box-sizing: border-box;padding-bottom: 0.4em;background-color: white;}#sk-container-id-1 div.sk-label label {font-family: monospace;font-weight: bold;display: inline-block;line-height: 1.2em;}#sk-container-id-1 div.sk-label-container {text-align: center;}#sk-container-id-1 div.sk-container {/* jupyter's `normalize.less` sets `[hidden] { display: none; }` but bootstrap.min.css set `[hidden] { display: none !important; }` so we also need the `!important` here to be able to override the default hidden behavior on the sphinx rendered scikit-learn.org. See: https://github.com/scikit-learn/scikit-learn/issues/21755 */display: inline-block !important;position: relative;}#sk-container-id-1 div.sk-text-repr-fallback {display: none;}</style><div id=\"sk-container-id-1\" class=\"sk-top-container\"><div class=\"sk-text-repr-fallback\"><pre>LinearRegression()</pre><b>In a Jupyter environment, please rerun this cell to show the HTML representation or trust the notebook. <br />On GitHub, the HTML representation is unable to render, please try loading this page with nbviewer.org.</b></div><div class=\"sk-container\" hidden><div class=\"sk-item\"><div class=\"sk-estimator sk-toggleable\"><input class=\"sk-toggleable__control sk-hidden--visually\" id=\"sk-estimator-id-1\" type=\"checkbox\" checked><label for=\"sk-estimator-id-1\" class=\"sk-toggleable__label sk-toggleable__label-arrow\">LinearRegression</label><div class=\"sk-toggleable__content\"><pre>LinearRegression()</pre></div></div></div></div></div>"
      ],
      "text/plain": [
       "LinearRegression()"
      ]
     },
     "execution_count": 27,
     "metadata": {},
     "output_type": "execute_result"
    }
   ],
   "source": [
    "#Linear regression\n",
    "\n",
    "model=LinearRegression()\n",
    "\n",
    "model.fit(X_train,y_train)"
   ]
  },
  {
   "cell_type": "code",
   "execution_count": 28,
   "id": "583e49f3",
   "metadata": {},
   "outputs": [],
   "source": [
    "#predicting train\n",
    "train_pred=model.predict(X_train)\n",
    "#predicting on test\n",
    "test_pred=model.predict(X_test)"
   ]
  },
  {
   "cell_type": "code",
   "execution_count": 29,
   "id": "5dd113f4",
   "metadata": {},
   "outputs": [
    {
     "name": "stdout",
     "output_type": "stream",
     "text": [
      "RMSE TrainingData =  13.355928487132466\n",
      "RMSE TestData =  13.461230341980844\n",
      "RSquared value on train: 0.985350052149406\n",
      "RSquared value on test: 0.9850266245121643\n"
     ]
    }
   ],
   "source": [
    "RMSE_train=(np.sqrt(metrics.mean_squared_error(y_train,train_pred)))\n",
    "RMSE_test=(np.sqrt(metrics.mean_squared_error(y_test,test_pred)))\n",
    "print(\"RMSE TrainingData = \",str(RMSE_train))\n",
    "print(\"RMSE TestData = \",str(RMSE_test))\n",
    "print('RSquared value on train:',model.score(X_train, y_train))\n",
    "print('RSquared value on test:',model.score(X_test, y_test))"
   ]
  },
  {
   "cell_type": "code",
   "execution_count": 30,
   "id": "800f4362",
   "metadata": {},
   "outputs": [],
   "source": [
    "#Random Forest Regressor\n",
    "from sklearn.ensemble import RandomForestRegressor\n",
    "\n",
    "rf=RandomForestRegressor()\n",
    "\n",
    "rf.fit(X_train,y_train)\n",
    "\n",
    "rf_train_preds=rf.predict(X_train)\n",
    "#predicting on test\n",
    "rf_test_preds=rf.predict(X_test)"
   ]
  },
  {
   "cell_type": "code",
   "execution_count": 31,
   "id": "d10a6bdf",
   "metadata": {},
   "outputs": [
    {
     "name": "stdout",
     "output_type": "stream",
     "text": [
      "RMSE TrainingData =  0.3147073654056851\n",
      "RMSE TestData =  0.5702298963136417\n",
      "RSquared value on train: 0.9999918660457898\n",
      "RSquared value on test: 0.9999731310824894\n"
     ]
    }
   ],
   "source": [
    "RMSE_train=(np.sqrt(metrics.mean_squared_error(y_train,rf_train_preds)))\n",
    "RMSE_test=(np.sqrt(metrics.mean_squared_error(y_test,rf_test_preds)))\n",
    "print(\"RMSE TrainingData = \",str(RMSE_train))\n",
    "print(\"RMSE TestData = \",str(RMSE_test))\n",
    "print('RSquared value on train:',rf.score(X_train, y_train))\n",
    "print('RSquared value on test:',rf.score(X_test, y_test))"
   ]
  },
  {
   "cell_type": "code",
   "execution_count": 32,
   "id": "4c1300d6",
   "metadata": {},
   "outputs": [],
   "source": [
    "#CLASSIFICATION MODELS\n",
    "from sklearn.linear_model import LogisticRegression\n",
    "from sklearn.ensemble import RandomForestClassifier\n",
    "from sklearn.neighbors import KNeighborsClassifier"
   ]
  },
  {
   "cell_type": "code",
   "execution_count": 33,
   "id": "cb583df5",
   "metadata": {
    "scrolled": false
   },
   "outputs": [
    {
     "data": {
      "text/plain": [
       "Index(['state', 'location', 'agency', 'type', 'spm', 'pm2_5', 'date', 'so2',\n",
       "       'no2', 'rspm', 'Day_Of_Year', 'Month', 'SOi', 'Noi', 'Rpi', 'SPMi',\n",
       "       'AQI', 'AQI_Range'],\n",
       "      dtype='object')"
      ]
     },
     "execution_count": 33,
     "metadata": {},
     "output_type": "execute_result"
    }
   ],
   "source": [
    "df.columns"
   ]
  },
  {
   "cell_type": "code",
   "execution_count": 34,
   "id": "80d780fe",
   "metadata": {},
   "outputs": [],
   "source": [
    "df_new = df"
   ]
  },
  {
   "cell_type": "code",
   "execution_count": 35,
   "id": "fb32668b",
   "metadata": {},
   "outputs": [],
   "source": [
    "from sklearn.preprocessing import LabelEncoder\n",
    "\n",
    "featurecols = ['state', 'location', 'agency', 'type']\n",
    "enc = LabelEncoder()\n",
    "\n",
    "df[featurecols] = df[featurecols].apply(enc.fit_transform)"
   ]
  },
  {
   "cell_type": "code",
   "execution_count": 36,
   "id": "23aaa52c",
   "metadata": {},
   "outputs": [],
   "source": [
    "X2 = df[['SOi','Noi','Rpi','SPMi','state', 'location', 'agency', 'type', 'Month', 'Day_Of_Year']]\n",
    "y2 = df['AQI_Range']"
   ]
  },
  {
   "cell_type": "code",
   "execution_count": 37,
   "id": "41c79150",
   "metadata": {},
   "outputs": [
    {
     "data": {
      "text/plain": [
       "0    Good\n",
       "1    Good\n",
       "2    Good\n",
       "3    Good\n",
       "4    Good\n",
       "Name: AQI_Range, dtype: object"
      ]
     },
     "execution_count": 37,
     "metadata": {},
     "output_type": "execute_result"
    }
   ],
   "source": [
    "y2.head()"
   ]
  },
  {
   "cell_type": "code",
   "execution_count": 38,
   "id": "d8596c0f",
   "metadata": {},
   "outputs": [],
   "source": [
    "from sklearn.preprocessing import LabelEncoder\n",
    "enc = LabelEncoder()\n",
    "y2 = enc.fit_transform(y2)"
   ]
  },
  {
   "cell_type": "code",
   "execution_count": 39,
   "id": "f93e4a91",
   "metadata": {},
   "outputs": [],
   "source": [
    "from sklearn.model_selection import train_test_split\n",
    "X_train2, X_test2, Y_train2, Y_test2 = train_test_split(X2, y2, test_size=0.25, random_state=70)"
   ]
  },
  {
   "cell_type": "code",
   "execution_count": 40,
   "id": "87063267",
   "metadata": {},
   "outputs": [
    {
     "name": "stdout",
     "output_type": "stream",
     "text": [
      "Model accuracy on train is:  0.8129735254158456\n",
      "Model accuracy on test is:  0.8125304080414927\n",
      "KappaScore is:  0.7211075991550345\n"
     ]
    },
    {
     "name": "stderr",
     "output_type": "stream",
     "text": [
      "D:\\Anaconda\\envs\\Tensorflow\\lib\\site-packages\\sklearn\\linear_model\\_logistic.py:444: ConvergenceWarning: lbfgs failed to converge (status=1):\n",
      "STOP: TOTAL NO. of ITERATIONS REACHED LIMIT.\n",
      "\n",
      "Increase the number of iterations (max_iter) or scale the data as shown in:\n",
      "    https://scikit-learn.org/stable/modules/preprocessing.html\n",
      "Please also refer to the documentation for alternative solver options:\n",
      "    https://scikit-learn.org/stable/modules/linear_model.html#logistic-regression\n",
      "  n_iter_i = _check_optimize_result(\n"
     ]
    }
   ],
   "source": [
    "#LOGISTIC REGRESSION\n",
    " \n",
    "log_reg = LogisticRegression()\n",
    "log_reg.fit(X_train2, Y_train2)\n",
    "\n",
    " \n",
    "logreg_train_preds = log_reg.predict(X_train2)\n",
    "print(\"Model accuracy on train is: \", accuracy_score(Y_train2, logreg_train_preds))\n",
    "\n",
    "\n",
    "logreg_test_preds = log_reg.predict(X_test2)\n",
    "print(\"Model accuracy on test is: \", accuracy_score(Y_test2, logreg_test_preds))\n",
    "\n",
    "# Kappa Score.\n",
    "print('KappaScore is: ', metrics.cohen_kappa_score(Y_test2,logreg_test_preds))"
   ]
  },
  {
   "cell_type": "code",
   "execution_count": 41,
   "id": "5f55dd44",
   "metadata": {},
   "outputs": [
    {
     "name": "stdout",
     "output_type": "stream",
     "text": [
      "Model accuracy on train is:  1.0\n",
      "Model accuracy on test is:  0.9998898425666682\n",
      "KappaScore is:  0.9998370046014028\n"
     ]
    }
   ],
   "source": [
    "#RANDOMFOREST CLASSIFIER\n",
    "\n",
    "\n",
    "RF=RandomForestClassifier()\n",
    "RF.fit(X_train2,Y_train2)\n",
    "\n",
    "RF_train_preds = RF.predict(X_train2)\n",
    "print(\"Model accuracy on train is: \", accuracy_score(Y_train2, RF_train_preds))\n",
    "\n",
    "RF_test_preds = RF.predict(X_test2)\n",
    "print(\"Model accuracy on test is: \", accuracy_score(Y_test2, RF_test_preds))\n",
    "\n",
    "# Kappa Score\n",
    "print('KappaScore is: ', metrics.cohen_kappa_score(Y_test2,RF_test_preds))"
   ]
  },
  {
   "cell_type": "code",
   "execution_count": 42,
   "id": "99ca9e5b",
   "metadata": {
    "scrolled": true
   },
   "outputs": [
    {
     "name": "stdout",
     "output_type": "stream",
     "text": [
      "Model accuracy on train is:  0.9845534326385234\n",
      "Model accuracy on test is:  0.9738743287281406\n",
      "KappaScore is:  0.9612782515407441\n"
     ]
    }
   ],
   "source": [
    "#KNN\n",
    "\n",
    "KNN = KNeighborsClassifier()\n",
    "KNN.fit(X_train2,Y_train2)\n",
    "\n",
    "knn_tr_preds = KNN.predict(X_train2)\n",
    "print(\"Model accuracy on train is: \", accuracy_score(Y_train2, knn_tr_preds))\n",
    "\n",
    "knn_test_preds = KNN.predict(X_test2)\n",
    "print(\"Model accuracy on test is: \", accuracy_score(Y_test2, knn_test_preds))\n",
    "\n",
    "# Kappa Score\n",
    "print('KappaScore is: ', metrics.cohen_kappa_score(Y_test2,knn_test_preds))"
   ]
  },
  {
   "cell_type": "code",
   "execution_count": 43,
   "id": "1258201d",
   "metadata": {},
   "outputs": [
    {
     "name": "stdout",
     "output_type": "stream",
     "text": [
      "Model accuracy on train is:  0.9822584790883833\n",
      "Model accuracy on test is:  0.9703860100059669\n",
      "KappaScore is:  0.9559774931654882\n"
     ]
    }
   ],
   "source": [
    "#Weighted KNN\n",
    "from sklearn.neighbors import KNeighborsClassifier\n",
    "\n",
    "we_knn = KNeighborsClassifier(n_neighbors=4)\n",
    "we_knn.fit(X_train2, Y_train2)\n",
    "\n",
    "\n",
    "\n",
    "we_knn_tr_preds = we_knn.predict(X_train2)\n",
    "print(\"Model accuracy on train is: \", accuracy_score(Y_train2, we_knn_tr_preds))\n",
    "\n",
    "we_knn_test_preds = we_knn.predict(X_test2)\n",
    "print(\"Model accuracy on test is: \", accuracy_score(Y_test2, we_knn_test_preds))\n",
    "\n",
    "# Kappa Score\n",
    "print('KappaScore is: ', metrics.cohen_kappa_score(Y_test2,we_knn_test_preds))"
   ]
  },
  {
   "cell_type": "code",
   "execution_count": 44,
   "id": "e8e1f9db",
   "metadata": {},
   "outputs": [],
   "source": [
    "#Neural Netwok (ANN) (Regression)"
   ]
  },
  {
   "cell_type": "code",
   "execution_count": 45,
   "id": "57cdf9b6",
   "metadata": {},
   "outputs": [
    {
     "name": "stdout",
     "output_type": "stream",
     "text": [
      "435739\n"
     ]
    }
   ],
   "source": [
    "print(len(df))"
   ]
  },
  {
   "cell_type": "code",
   "execution_count": 46,
   "id": "f2f06d1c",
   "metadata": {},
   "outputs": [],
   "source": [
    "import tensorflow as tf\n",
    "from tensorflow.keras.models import Sequential\n",
    "from tensorflow.keras.layers import Dense, Activation,Dropout\n",
    "from tensorflow.keras.constraints import max_norm"
   ]
  },
  {
   "cell_type": "code",
   "execution_count": 47,
   "id": "5b1ad5c7",
   "metadata": {},
   "outputs": [
    {
     "data": {
      "text/plain": [
       "(348591, 6)"
      ]
     },
     "execution_count": 47,
     "metadata": {},
     "output_type": "execute_result"
    }
   ],
   "source": [
    "X_train.shape"
   ]
  },
  {
   "cell_type": "code",
   "execution_count": 52,
   "id": "bc04e883",
   "metadata": {},
   "outputs": [],
   "source": [
    "model = Sequential()\n",
    "model.add(Dense(6, activation='relu'))\n",
    "model.add(Dropout(0.2))\n",
    "\n",
    "model.add(Dense(6, activation='relu'))\n",
    "model.add(Dropout(0.2))\n",
    "\n",
    "model.add(Dense(3, activation='relu'))\n",
    "model.add(Dropout(0.2))\n",
    "\n",
    "model.add(Dense(3, activation='relu'))\n",
    "model.add(Dropout(0.2))\n",
    "\n",
    "model.add(Dense(units=1,activation='linear'))\n",
    "model.compile(optimizer = 'adam', loss = 'mean_squared_error')"
   ]
  },
  {
   "cell_type": "code",
   "execution_count": 53,
   "id": "15aa131c",
   "metadata": {},
   "outputs": [],
   "source": [
    "from tensorflow.keras.callbacks import EarlyStopping\n",
    "\n",
    "early_stop = EarlyStopping(monitor = 'val_loss', mode = 'min', verbose = 1, patience = 25)"
   ]
  },
  {
   "cell_type": "code",
   "execution_count": 54,
   "id": "32327dc1",
   "metadata": {
    "scrolled": true
   },
   "outputs": [
    {
     "name": "stdout",
     "output_type": "stream",
     "text": [
      "Epoch 1/600\n",
      "1362/1362 [==============================] - 3s 2ms/step - loss: 21320.7695 - val_loss: 4697.1113- loss: 21935.5\n",
      "Epoch 2/600\n",
      "1362/1362 [==============================] - 2s 2ms/step - loss: 8638.2461 - val_loss: 5211.3130\n",
      "Epoch 3/600\n",
      "1362/1362 [==============================] - 3s 2ms/step - loss: 7278.1870 - val_loss: 5484.3613\n",
      "Epoch 4/600\n",
      "1362/1362 [==============================] - 3s 2ms/step - loss: 6806.2090 - val_loss: 5236.3438TA: 1s\n",
      "Epoch 5/600\n",
      "1362/1362 [==============================] - 2s 2ms/step - loss: 6426.5464 - val_loss: 5122.9561TA: 1s - loss: - ETA: 1s - loss: 6 - ETA - ETA: 0s -\n",
      "Epoch 6/600\n",
      "1362/1362 [==============================] - 2s 2ms/step - loss: 6280.6030 - val_loss: 5027.5972\n",
      "Epoch 7/600\n",
      "1362/1362 [==============================] - 2s 2ms/step - loss: 6137.7153 - val_loss: 4859.5679 614\n",
      "Epoch 8/600\n",
      "1362/1362 [==============================] - 2s 2ms/step - loss: 6031.8608 - val_loss: 4473.7036\n",
      "Epoch 9/600\n",
      "1362/1362 [==============================] - 2s 2ms/step - loss: 5995.9072 - val_loss: 4752.9678\n",
      "Epoch 10/600\n",
      "1362/1362 [==============================] - 3s 2ms/step - loss: 5946.6030 - val_loss: 4815.7119\n",
      "Epoch 11/600\n",
      "1362/1362 [==============================] - 2s 2ms/step - loss: 5791.3042 - val_loss: 4532.9546\n",
      "Epoch 12/600\n",
      "1362/1362 [==============================] - 3s 2ms/step - loss: 5711.0972 - val_loss: 4718.5762\n",
      "Epoch 13/600\n",
      "1362/1362 [==============================] - 2s 2ms/step - loss: 5674.4932 - val_loss: 4756.7900\n",
      "Epoch 14/600\n",
      "1362/1362 [==============================] - 2s 2ms/step - loss: 5572.0986 - val_loss: 4785.2085\n",
      "Epoch 15/600\n",
      "1362/1362 [==============================] - 2s 2ms/step - loss: 5561.0586 - val_loss: 4869.6704\n",
      "Epoch 16/600\n",
      "1362/1362 [==============================] - 2s 2ms/step - loss: 5519.8237 - val_loss: 4831.3555\n",
      "Epoch 17/600\n",
      "1362/1362 [==============================] - 2s 2ms/step - loss: 5429.7881 - val_loss: 4836.9346\n",
      "Epoch 18/600\n",
      "1362/1362 [==============================] - 2s 2ms/step - loss: 5387.8984 - val_loss: 4611.4004\n",
      "Epoch 19/600\n",
      "1362/1362 [==============================] - 2s 2ms/step - loss: 5391.3174 - val_loss: 4746.57280s - loss: - ETA: 0s - loss: 5385.\n",
      "Epoch 20/600\n",
      "1362/1362 [==============================] - 2s 2ms/step - loss: 5314.9658 - val_loss: 4335.8042\n",
      "Epoch 21/600\n",
      "1362/1362 [==============================] - 2s 1ms/step - loss: 5354.4868 - val_loss: 4549.9512\n",
      "Epoch 22/600\n",
      "1362/1362 [==============================] - 2s 1ms/step - loss: 5268.6030 - val_loss: 4973.4390\n",
      "Epoch 23/600\n",
      "1362/1362 [==============================] - 2s 1ms/step - loss: 5223.6792 - val_loss: 4588.3140\n",
      "Epoch 24/600\n",
      "1362/1362 [==============================] - 3s 2ms/step - loss: 5163.9463 - val_loss: 4555.1260: 0s - loss: 516\n",
      "Epoch 25/600\n",
      "1362/1362 [==============================] - 3s 2ms/step - loss: 5135.8398 - val_loss: 4337.7246\n",
      "Epoch 26/600\n",
      "1362/1362 [==============================] - 3s 2ms/step - loss: 5185.2485 - val_loss: 4588.9995\n",
      "Epoch 27/600\n",
      "1362/1362 [==============================] - 3s 2ms/step - loss: 5100.7393 - val_loss: 4598.6685: \n",
      "Epoch 28/600\n",
      "1362/1362 [==============================] - 3s 2ms/step - loss: 5099.8325 - val_loss: 4622.1753 -\n",
      "Epoch 29/600\n",
      "1362/1362 [==============================] - 2s 2ms/step - loss: 5009.0928 - val_loss: 4692.2871\n",
      "Epoch 30/600\n",
      "1362/1362 [==============================] - 3s 2ms/step - loss: 4984.9434 - val_loss: 4582.1455\n",
      "Epoch 31/600\n",
      "1362/1362 [==============================] - 3s 2ms/step - loss: 4930.8662 - val_loss: 4575.4810\n",
      "Epoch 32/600\n",
      "1362/1362 [==============================] - 2s 2ms/step - loss: 4932.3315 - val_loss: 4523.04830s - l\n",
      "Epoch 33/600\n",
      "1362/1362 [==============================] - 2s 2ms/step - loss: 4846.3735 - val_loss: 4255.2354: 0s - loss: 4\n",
      "Epoch 34/600\n",
      "1362/1362 [==============================] - 3s 2ms/step - loss: 4826.2090 - val_loss: 4460.8618\n",
      "Epoch 35/600\n",
      "1362/1362 [==============================] - 3s 2ms/step - loss: 4757.3647 - val_loss: 4293.2397\n",
      "Epoch 36/600\n",
      "1362/1362 [==============================] - 4s 3ms/step - loss: 4820.7432 - val_loss: 4463.7485\n",
      "Epoch 37/600\n",
      "1362/1362 [==============================] - 2s 2ms/step - loss: 4757.8394 - val_loss: 4473.7729\n",
      "Epoch 38/600\n",
      "1362/1362 [==============================] - 2s 2ms/step - loss: 4733.7495 - val_loss: 4492.1162\n",
      "Epoch 39/600\n",
      "1362/1362 [==============================] - 3s 2ms/step - loss: 4748.3101 - val_loss: 4432.2329 - loss: - ETA: 0s - los\n",
      "Epoch 40/600\n",
      "1362/1362 [==============================] - 3s 2ms/step - loss: 4676.3770 - val_loss: 4528.4141\n",
      "Epoch 41/600\n",
      "1362/1362 [==============================] - 2s 2ms/step - loss: 4676.5229 - val_loss: 4417.0928\n",
      "Epoch 42/600\n",
      "1362/1362 [==============================] - 2s 2ms/step - loss: 4684.4702 - val_loss: 4425.0996\n",
      "Epoch 43/600\n",
      "1362/1362 [==============================] - 3s 2ms/step - loss: 4725.3335 - val_loss: 4160.9478\n",
      "Epoch 44/600\n",
      "1362/1362 [==============================] - 2s 2ms/step - loss: 4635.7061 - val_loss: 4688.8330\n",
      "Epoch 45/600\n",
      "1362/1362 [==============================] - 2s 2ms/step - loss: 4591.1689 - val_loss: 4369.9448\n",
      "Epoch 46/600\n",
      "1362/1362 [==============================] - 2s 2ms/step - loss: 4626.2422 - val_loss: 4493.8418\n",
      "Epoch 47/600\n",
      "1362/1362 [==============================] - 2s 2ms/step - loss: 4602.1362 - val_loss: 4515.9824\n",
      "Epoch 48/600\n",
      "1362/1362 [==============================] - 2s 1ms/step - loss: 4617.1572 - val_loss: 4444.5352\n",
      "Epoch 49/600\n",
      "1362/1362 [==============================] - 2s 2ms/step - loss: 4643.1997 - val_loss: 4346.9058TA\n",
      "Epoch 50/600\n",
      "1362/1362 [==============================] - 2s 2ms/step - loss: 4655.2129 - val_loss: 4417.9648\n",
      "Epoch 51/600\n",
      "1362/1362 [==============================] - 2s 1ms/step - loss: 4640.8330 - val_loss: 4479.6089\n",
      "Epoch 52/600\n",
      "1362/1362 [==============================] - 2s 2ms/step - loss: 4634.8706 - val_loss: 4498.1372\n",
      "Epoch 53/600\n",
      "1362/1362 [==============================] - 2s 2ms/step - loss: 4605.2241 - val_loss: 4484.6128 loss: 4607.31\n",
      "Epoch 54/600\n",
      "1362/1362 [==============================] - 2s 2ms/step - loss: 4574.9697 - val_loss: 4335.8838\n",
      "Epoch 55/600\n",
      "1362/1362 [==============================] - 2s 2ms/step - loss: 4627.8145 - val_loss: 4610.4473\n",
      "Epoch 56/600\n",
      "1362/1362 [==============================] - 2s 2ms/step - loss: 4646.7056 - val_loss: 4520.4438 - loss: 4\n",
      "Epoch 57/600\n",
      "1362/1362 [==============================] - 2s 2ms/step - loss: 4660.7471 - val_loss: 4139.7275\n",
      "Epoch 58/600\n",
      "1362/1362 [==============================] - 2s 2ms/step - loss: 4655.4668 - val_loss: 4091.8635\n",
      "Epoch 59/600\n",
      "1362/1362 [==============================] - 2s 2ms/step - loss: 4562.2803 - val_loss: 4520.4863\n",
      "Epoch 60/600\n",
      "1362/1362 [==============================] - 2s 2ms/step - loss: 4617.5781 - val_loss: 4552.5000\n",
      "Epoch 61/600\n",
      "1362/1362 [==============================] - 3s 2ms/step - loss: 4611.9097 - val_loss: 4591.6738\n",
      "Epoch 62/600\n",
      "1362/1362 [==============================] - 3s 2ms/step - loss: 4648.0952 - val_loss: 4417.2832\n",
      "Epoch 63/600\n",
      "1362/1362 [==============================] - 3s 2ms/step - loss: 4653.2261 - val_loss: 4564.6948\n",
      "Epoch 64/600\n",
      "1362/1362 [==============================] - 3s 2ms/step - loss: 4602.2261 - val_loss: 4449.1440\n",
      "Epoch 65/600\n",
      "1362/1362 [==============================] - 2s 2ms/step - loss: 4600.8594 - val_loss: 4474.0503\n",
      "Epoch 66/600\n",
      "1362/1362 [==============================] - 2s 2ms/step - loss: 4585.0889 - val_loss: 4310.2041\n",
      "Epoch 67/600\n",
      "1362/1362 [==============================] - 3s 2ms/step - loss: 4612.8330 - val_loss: 4422.6919\n",
      "Epoch 68/600\n",
      "1362/1362 [==============================] - 2s 2ms/step - loss: 4590.9463 - val_loss: 4493.8760\n",
      "Epoch 69/600\n",
      "1362/1362 [==============================] - 2s 2ms/step - loss: 4583.7554 - val_loss: 4445.1465\n",
      "Epoch 70/600\n",
      "1362/1362 [==============================] - 3s 2ms/step - loss: 4627.4375 - val_loss: 4403.0620\n",
      "Epoch 71/600\n",
      "1362/1362 [==============================] - 3s 2ms/step - loss: 4645.9180 - val_loss: 4362.3071\n",
      "Epoch 72/600\n",
      "1362/1362 [==============================] - 2s 2ms/step - loss: 4656.7402 - val_loss: 4388.4478\n",
      "Epoch 73/600\n"
     ]
    },
    {
     "name": "stdout",
     "output_type": "stream",
     "text": [
      "1362/1362 [==============================] - 2s 2ms/step - loss: 4603.1870 - val_loss: 4484.8306\n",
      "Epoch 74/600\n",
      "1362/1362 [==============================] - 3s 2ms/step - loss: 4637.0474 - val_loss: 4532.9282: 0s - loss: - ETA: 0s - loss:\n",
      "Epoch 75/600\n",
      "1362/1362 [==============================] - 3s 2ms/step - loss: 4634.6440 - val_loss: 4376.3223\n",
      "Epoch 76/600\n",
      "1362/1362 [==============================] - 3s 2ms/step - loss: 4604.5620 - val_loss: 4440.2056\n",
      "Epoch 77/600\n",
      "1362/1362 [==============================] - 2s 2ms/step - loss: 4572.6489 - val_loss: 4575.5054\n",
      "Epoch 78/600\n",
      "1362/1362 [==============================] - 3s 2ms/step - loss: 4626.0723 - val_loss: 4391.6919\n",
      "Epoch 79/600\n",
      "1362/1362 [==============================] - 3s 2ms/step - loss: 4623.7666 - val_loss: 4336.8345\n",
      "Epoch 80/600\n",
      "1362/1362 [==============================] - 3s 2ms/step - loss: 4626.0684 - val_loss: 4333.8965 - loss: - E\n",
      "Epoch 81/600\n",
      "1362/1362 [==============================] - 3s 2ms/step - loss: 4657.7495 - val_loss: 4374.0728\n",
      "Epoch 82/600\n",
      "1362/1362 [==============================] - 3s 2ms/step - loss: 4641.9805 - val_loss: 4583.8799\n",
      "Epoch 83/600\n",
      "1362/1362 [==============================] - 4s 3ms/step - loss: 4624.4766 - val_loss: 4278.9907\n",
      "Epoch 00083: early stopping\n"
     ]
    },
    {
     "data": {
      "text/plain": [
       "<keras.callbacks.History at 0x20fb17aa940>"
      ]
     },
     "execution_count": 54,
     "metadata": {},
     "output_type": "execute_result"
    }
   ],
   "source": [
    "model.fit(x = X_train, y = y_train, epochs = 600, batch_size = 256, validation_data = (X_test, y_test), callbacks = [early_stop])"
   ]
  },
  {
   "cell_type": "code",
   "execution_count": 55,
   "id": "e400e377",
   "metadata": {},
   "outputs": [
    {
     "data": {
      "text/plain": [
       "<AxesSubplot:>"
      ]
     },
     "execution_count": 55,
     "metadata": {},
     "output_type": "execute_result"
    },
    {
     "data": {
      "image/png": "[encoded data removed]",
      "text/plain": [
       "<Figure size 432x288 with 1 Axes>"
      ]
     },
     "metadata": {
      "needs_background": "light"
     },
     "output_type": "display_data"
    }
   ],
   "source": [
    "pd.DataFrame(model.history.history).plot()"
   ]
  },
  {
   "cell_type": "code",
   "execution_count": 56,
   "id": "c802dada",
   "metadata": {},
   "outputs": [],
   "source": [
    "preds = model.predict(X_test)"
   ]
  },
  {
   "cell_type": "code",
   "execution_count": 57,
   "id": "bdcadd9a",
   "metadata": {
    "scrolled": true
   },
   "outputs": [
    {
     "data": {
      "text/plain": [
       "4278.990449086848"
      ]
     },
     "execution_count": 57,
     "metadata": {},
     "output_type": "execute_result"
    }
   ],
   "source": [
    "mean_squared_error(y_test, preds)"
   ]
  },
  {
   "cell_type": "code",
   "execution_count": 58,
   "id": "06564fe0",
   "metadata": {},
   "outputs": [],
   "source": [
    "#Neural Network (Classification)"
   ]
  },
  {
   "cell_type": "code",
   "execution_count": 59,
   "id": "cba1834b",
   "metadata": {},
   "outputs": [],
   "source": [
    "from sklearn.preprocessing import LabelEncoder\n",
    "enc = LabelEncoder()\n",
    "y2 = enc.fit_transform(y2)"
   ]
  },
  {
   "cell_type": "code",
   "execution_count": 60,
   "id": "232f365b",
   "metadata": {},
   "outputs": [],
   "source": [
    "model2 = Sequential()\n",
    "model2.add(Dense(10, activation='relu'))\n",
    "model2.add(Dropout(0.2))\n",
    "\n",
    "model2.add(Dense(10, activation='relu'))\n",
    "model2.add(Dropout(0.2))\n",
    "\n",
    "model2.add(Dense(10, activation='relu'))\n",
    "model2.add(Dropout(0.2))\n",
    "\n",
    "model2.add(Dense(5, activation='relu'))\n",
    "model2.add(Dropout(0.2))\n",
    "\n",
    "model2.add(Dense(5, activation='relu'))\n",
    "model2.add(Dropout(0.2))\n",
    "\n",
    "model2.add(Dense(units=6,activation='softmax'))\n",
    "model2.compile(optimizer = 'adam', loss = 'sparse_categorical_crossentropy',metrics = ['accuracy'])"
   ]
  },
  {
   "cell_type": "code",
   "execution_count": 61,
   "id": "02561f79",
   "metadata": {},
   "outputs": [
    {
     "name": "stdout",
     "output_type": "stream",
     "text": [
      "['Good' 'Poor' 'Moderate' 'Unhealthy' 'Very Unhealthy' 'Hazardous']\n"
     ]
    }
   ],
   "source": [
    "print(df_new.AQI_Range.unique())"
   ]
  },
  {
   "cell_type": "code",
   "execution_count": 62,
   "id": "86d23286",
   "metadata": {},
   "outputs": [],
   "source": [
    "from tensorflow.keras.callbacks import EarlyStopping\n",
    "\n",
    "early_stop = EarlyStopping(monitor = 'val_loss', mode = 'min', verbose = 1, patience = 25)"
   ]
  },
  {
   "cell_type": "code",
   "execution_count": 63,
   "id": "d4f95f5f",
   "metadata": {
    "scrolled": true
   },
   "outputs": [
    {
     "name": "stdout",
     "output_type": "stream",
     "text": [
      "Epoch 1/600\n",
      "1277/1277 [==============================] - 4s 2ms/step - loss: 2.3132 - accuracy: 0.4764 - val_loss: 1.2811 - val_accuracy: 0.5023\n",
      "Epoch 2/600\n",
      "1277/1277 [==============================] - 3s 2ms/step - loss: 1.2583 - accuracy: 0.5180 - val_loss: 0.9971 - val_accuracy: 0.6721\n",
      "Epoch 3/600\n",
      "1277/1277 [==============================] - 3s 2ms/step - loss: 1.1006 - accuracy: 0.5785 - val_loss: 0.8262 - val_accuracy: 0.7040oss:\n",
      "Epoch 4/600\n",
      "1277/1277 [==============================] - 3s 2ms/step - loss: 0.8709 - accuracy: 0.6602 - val_loss: 0.5641 - val_accuracy: 0.7295oss: 0.9441 - accuracy - ETA: 1s - loss: 0.9353 - ac - ETA\n",
      "Epoch 5/600\n",
      "1277/1277 [==============================] - 3s 2ms/step - loss: 0.7384 - accuracy: 0.7046 - val_loss: 0.5303 - val_accuracy: 0.7459 - loss: 0.7513 - accura - ETA: 0s - loss: 0.7474 - accuracy:  - ETA: 0s - los\n",
      "Epoch 6/600\n",
      "1277/1277 [==============================] - 3s 2ms/step - loss: 0.6914 - accuracy: 0.7271 - val_loss: 0.5251 - val_accuracy: 0.7682\n",
      "Epoch 7/600\n",
      "1277/1277 [==============================] - 3s 3ms/step - loss: 0.6550 - accuracy: 0.7441 - val_loss: 0.5244 - val_accuracy: 0.78856 \n",
      "Epoch 8/600\n",
      "1277/1277 [==============================] - 4s 4ms/step - loss: 0.6041 - accuracy: 0.7606 - val_loss: 0.4754 - val_accuracy: 0.7911s: 0.6 - ETA: 1s - los - ETA: 0s - loss: 0.609 - ETA: 0s - loss: 0.6063 - accu\n",
      "Epoch 9/600\n",
      "1277/1277 [==============================] - 4s 3ms/step - loss: 0.5602 - accuracy: 0.7748 - val_loss: 0.4728 - val_accuracy: 0.7839 loss: 0.5619 - ac\n",
      "Epoch 10/600\n",
      "1277/1277 [==============================] - 4s 3ms/step - loss: 0.5329 - accuracy: 0.7838 - val_loss: 0.4241 - val_accuracy: 0.7874 loss: 0.5373 - accuracy - ETA: 0s - loss: 0.5364 - accura - ETA: 0s - loss: 0.5353 -  - ETA: 0s - loss: 0.5346 - accu\n",
      "Epoch 11/600\n",
      "1277/1277 [==============================] - 4s 3ms/step - loss: 0.5057 - accuracy: 0.7773 - val_loss: 0.4582 - val_accuracy: 0.7470\n",
      "Epoch 12/600\n",
      "1277/1277 [==============================] - 4s 3ms/step - loss: 0.4875 - accuracy: 0.7799 - val_loss: 0.4353 - val_accuracy: 0.7533\n",
      "Epoch 13/600\n",
      "1277/1277 [==============================] - 3s 3ms/step - loss: 0.4766 - accuracy: 0.8028 - val_loss: 0.4377 - val_accuracy: 0.7642 loss: 0.4774 - accuracy: 0. - ETA: 1s - loss: 0 - ETA: 0s - loss: 0.4763 - ac\n",
      "Epoch 14/600\n",
      "1277/1277 [==============================] - 3s 2ms/step - loss: 0.4620 - accuracy: 0.8213 - val_loss: 0.4906 - val_accuracy: 0.7374\n",
      "Epoch 15/600\n",
      "1277/1277 [==============================] - 3s 3ms/step - loss: 0.4512 - accuracy: 0.8065 - val_loss: 0.4726 - val_accuracy: 0.7507\n",
      "Epoch 16/600\n",
      "1277/1277 [==============================] - 4s 3ms/step - loss: 0.4450 - accuracy: 0.8076 - val_loss: 0.4878 - val_accuracy: 0.7472\n",
      "Epoch 17/600\n",
      "1277/1277 [==============================] - 4s 3ms/step - loss: 0.4405 - accuracy: 0.8105 - val_loss: 0.4734 - val_accuracy: 0.7392 loss: 0.4402 - accuracy: 0.81 - ETA: 0s - loss: 0.4401 - accuracy: 0.\n",
      "Epoch 18/600\n",
      "1277/1277 [==============================] - 3s 3ms/step - loss: 0.4351 - accuracy: 0.8120 - val_loss: 0.4546 - val_accuracy: 0.75502s - l - ETA: 1s - loss: - ETA:  - ETA: 0s - loss: 0.4359 - accu\n",
      "Epoch 19/600\n",
      "1277/1277 [==============================] - 4s 3ms/step - loss: 0.4351 - accuracy: 0.8128 - val_loss: 0.4739 - val_accuracy: 0.7424 ETA: 0s - loss: 0.4361 - \n",
      "Epoch 20/600\n",
      "1277/1277 [==============================] - 3s 2ms/step - loss: 0.4330 - accuracy: 0.8121 - val_loss: 0.4759 - val_accuracy: 0.75608 - ac - ETA: 0s - loss: 0.4339 - accuracy: 0.81 - ETA: 0s - loss: 0.4336 \n",
      "Epoch 21/600\n",
      "1277/1277 [==============================] - 3s 2ms/step - loss: 0.4245 - accuracy: 0.8179 - val_loss: 0.4739 - val_accuracy: 0.7656\n",
      "Epoch 22/600\n",
      "1277/1277 [==============================] - 3s 2ms/step - loss: 0.4194 - accuracy: 0.8210 - val_loss: 0.5082 - val_accuracy: 0.7387\n",
      "Epoch 23/600\n",
      "1277/1277 [==============================] - 3s 2ms/step - loss: 0.4163 - accuracy: 0.8198 - val_loss: 0.4959 - val_accuracy: 0.7574\n",
      "Epoch 24/600\n",
      "1277/1277 [==============================] - 4s 3ms/step - loss: 0.4125 - accuracy: 0.8351 - val_loss: 0.4911 - val_accuracy: 0.7734 loss: 0.4141 - accuracy: 0. - ETA: 0s - los\n",
      "Epoch 25/600\n",
      "1277/1277 [==============================] - 3s 2ms/step - loss: 0.4071 - accuracy: 0.8569 - val_loss: 0.4852 - val_accuracy: 0.7576\n",
      "Epoch 26/600\n",
      "1277/1277 [==============================] - 3s 2ms/step - loss: 0.4109 - accuracy: 0.8551 - val_loss: 0.4534 - val_accuracy: 0.7816\n",
      "Epoch 27/600\n",
      "1277/1277 [==============================] - 3s 2ms/step - loss: 0.4011 - accuracy: 0.8586 - val_loss: 0.4900 - val_accuracy: 0.7450\n",
      "Epoch 28/600\n",
      "1277/1277 [==============================] - 3s 2ms/step - loss: 0.3992 - accuracy: 0.8599 - val_loss: 0.4952 - val_accuracy: 0.7683 loss: 0.399 - ETA: 0s - loss: 0.3994 - accuracy: 0.\n",
      "Epoch 29/600\n",
      "1277/1277 [==============================] - 3s 3ms/step - loss: 0.4016 - accuracy: 0.8582 - val_loss: 0.4649 - val_accuracy: 0.7567\n",
      "Epoch 30/600\n",
      "1277/1277 [==============================] - 3s 2ms/step - loss: 0.3996 - accuracy: 0.8576 - val_loss: 0.4842 - val_accuracy: 0.7443\n",
      "Epoch 31/600\n",
      "1277/1277 [==============================] - 3s 3ms/step - loss: 0.3973 - accuracy: 0.8600 - val_loss: 0.4555 - val_accuracy: 0.7876\n",
      "Epoch 32/600\n",
      "1277/1277 [==============================] - 3s 2ms/step - loss: 0.3934 - accuracy: 0.8606 - val_loss: 0.4647 - val_accuracy: 0.7827\n",
      "Epoch 33/600\n",
      "1277/1277 [==============================] - 3s 3ms/step - loss: 0.3971 - accuracy: 0.8584 - val_loss: 0.4794 - val_accuracy: 0.7891\n",
      "Epoch 34/600\n",
      "1277/1277 [==============================] - 3s 3ms/step - loss: 0.3952 - accuracy: 0.8582 - val_loss: 0.4751 - val_accuracy: 0.7593\n",
      "Epoch 35/600\n",
      "1277/1277 [==============================] - 4s 3ms/step - loss: 0.3855 - accuracy: 0.8631 - val_loss: 0.4588 - val_accuracy: 0.7645\n",
      "Epoch 00035: early stopping\n"
     ]
    },
    {
     "data": {
      "text/plain": [
       "<keras.callbacks.History at 0x20fb355fe20>"
      ]
     },
     "execution_count": 63,
     "metadata": {},
     "output_type": "execute_result"
    }
   ],
   "source": [
    "model2.fit(x = X_train2, y = Y_train2, epochs = 600, batch_size = 256, validation_data = (X_test2, Y_test2), callbacks = [early_stop])"
   ]
  },
  {
   "cell_type": "code",
   "execution_count": 64,
   "id": "76a8ebee",
   "metadata": {},
   "outputs": [
    {
     "data": {
      "text/plain": [
       "<AxesSubplot:>"
      ]
     },
     "execution_count": 64,
     "metadata": {},
     "output_type": "execute_result"
    },
    {
     "data": {
      "image/png": "[encoded data removed]",
      "text/plain": [
       "<Figure size 432x288 with 1 Axes>"
      ]
     },
     "metadata": {
      "needs_background": "light"
     },
     "output_type": "display_data"
    }
   ],
   "source": [
    "pd.DataFrame(model2.history.history).plot() #Correct one 84 and 87 acc"
   ]
  },
  {
   "cell_type": "code",
   "execution_count": 65,
   "id": "c3e92aeb",
   "metadata": {},
   "outputs": [
    {
     "name": "stdout",
     "output_type": "stream",
     "text": [
      "0.99\n"
     ]
    }
   ],
   "source": [
    "#Ridge Regression\n",
    "\n",
    "from sklearn.linear_model import Ridge\n",
    "from sklearn.linear_model import RidgeCV\n",
    "from sklearn.model_selection import RepeatedKFold\n",
    "\n",
    "#define cross validation method to evaluate the model\n",
    "cv = RepeatedKFold(n_splits=10, n_repeats=3, random_state=1)\n",
    "\n",
    "model = RidgeCV(alphas=np.arange(0.01, 1, 0.01), cv=cv, scoring='neg_mean_absolute_error')\n",
    "\n",
    "model.fit(X_train, y_train)\n",
    "\n",
    "print(model.alpha_)"
   ]
  },
  {
   "cell_type": "code",
   "execution_count": 66,
   "id": "8b09362e",
   "metadata": {},
   "outputs": [
    {
     "name": "stdout",
     "output_type": "stream",
     "text": [
      "RMSE TrainingData =  13.355928487138494\n",
      "RMSE TestData =  13.461230421068592\n",
      "RSquared value on train: 0.9853500521493928\n",
      "RSquared value on test: 0.9850266243362205\n"
     ]
    }
   ],
   "source": [
    "ridge_train_preds = model.predict(X_train)\n",
    "ridge_test_preds = model.predict(X_test)\n",
    "\n",
    "RMSE_train=(np.sqrt(metrics.mean_squared_error(y_train,ridge_train_preds)))\n",
    "RMSE_test=(np.sqrt(metrics.mean_squared_error(y_test,ridge_test_preds)))\n",
    "print(\"RMSE TrainingData = \",str(RMSE_train))\n",
    "print(\"RMSE TestData = \",str(RMSE_test))\n",
    "print('RSquared value on train:',model.score(X_train, y_train))\n",
    "print('RSquared value on test:',model.score(X_test, y_test))"
   ]
  },
  {
   "cell_type": "code",
   "execution_count": 67,
   "id": "6b888fcc",
   "metadata": {},
   "outputs": [
    {
     "name": "stdout",
     "output_type": "stream",
     "text": [
      "Train data Score:  0.6571064001664606\n",
      "Test data score:  0.6573920227658696\n",
      "CV average score: 0.66\n"
     ]
    }
   ],
   "source": [
    "#Ridge Classification\n",
    "from sklearn.linear_model import RidgeClassifier\n",
    "from sklearn.model_selection import cross_val_score\n",
    "\n",
    "rc = RidgeClassifier()\n",
    "\n",
    "RidgeClassifier(alpha=1.0, class_weight=None, copy_X=True, fit_intercept=True,max_iter=None, normalize=True, random_state=None, solver='auto',tol=0.001)\n",
    "\n",
    "rc.fit(X_train2, Y_train2)\n",
    "\n",
    "train_score = rc.score(X_train2, Y_train2)\n",
    "print(\"Train data Score: \", train_score)\n",
    "\n",
    "test_score = rc.score(X_test2, Y_test2)\n",
    "print(\"Test data score: \", test_score)\n",
    "\n",
    "cv_scores = cross_val_score(rc, X_train2, Y_train2, cv=10)\n",
    "print(\"CV average score: %.2f\" % cv_scores.mean())"
   ]
  },
  {
   "cell_type": "code",
   "execution_count": 68,
   "id": "358b5a7e",
   "metadata": {},
   "outputs": [
    {
     "name": "stdout",
     "output_type": "stream",
     "text": [
      "KappaScore is:  0.4275420089176456\n"
     ]
    },
    {
     "name": "stderr",
     "output_type": "stream",
     "text": [
      "D:\\Anaconda\\envs\\Tensorflow\\lib\\site-packages\\sklearn\\metrics\\_classification.py:1327: UndefinedMetricWarning: Precision and F-score are ill-defined and being set to 0.0 in labels with no predicted samples. Use `zero_division` parameter to control this behavior.\n",
      "  _warn_prf(average, modifier, msg_start, len(result))\n",
      "D:\\Anaconda\\envs\\Tensorflow\\lib\\site-packages\\sklearn\\metrics\\_classification.py:1327: UndefinedMetricWarning: Precision and F-score are ill-defined and being set to 0.0 in labels with no predicted samples. Use `zero_division` parameter to control this behavior.\n",
      "  _warn_prf(average, modifier, msg_start, len(result))\n",
      "D:\\Anaconda\\envs\\Tensorflow\\lib\\site-packages\\sklearn\\metrics\\_classification.py:1327: UndefinedMetricWarning: Precision and F-score are ill-defined and being set to 0.0 in labels with no predicted samples. Use `zero_division` parameter to control this behavior.\n",
      "  _warn_prf(average, modifier, msg_start, len(result))\n"
     ]
    }
   ],
   "source": [
    "from sklearn.metrics import confusion_matrix, classification_report\n",
    "\n",
    "rc_preds = rc.predict(X_test2)\n",
    "\n",
    "cm = confusion_matrix(Y_test2, rc_preds)\n",
    "cr = classification_report(Y_test2, rc_preds)\n",
    "\n",
    "print('KappaScore is: ', metrics.cohen_kappa_score(Y_test2,rc_preds))"
   ]
  },
  {
   "cell_type": "code",
   "execution_count": 69,
   "id": "cae9abf7",
   "metadata": {},
   "outputs": [
    {
     "name": "stdout",
     "output_type": "stream",
     "text": [
      "RMSE TrainingData =  13.407974970370192\n",
      "RMSE TestData =  13.504506556817601\n",
      "RSquared value on train: 0.9852356514306453\n",
      "RSquared value on test: 0.9849301946013731\n"
     ]
    }
   ],
   "source": [
    "#Lasso\n",
    "from sklearn.linear_model import LassoCV\n",
    "lasso = LassoCV(cv=3)\n",
    "\n",
    "lasso.fit(X_train, y_train)\n",
    "\n",
    "lasso_tr = lasso.score(X_train, y_train)\n",
    "lasso_test = lasso.score(X_test, y_test)\n",
    "\n",
    "lasso_tr_preds = lasso.predict(X_train)\n",
    "lasso_test_preds = lasso.predict(X_test)\n",
    "\n",
    "RMSE_train=(np.sqrt(metrics.mean_squared_error(y_train,lasso_tr_preds)))\n",
    "RMSE_test=(np.sqrt(metrics.mean_squared_error(y_test,lasso_test_preds)))\n",
    "print(\"RMSE TrainingData = \",str(RMSE_train))\n",
    "print(\"RMSE TestData = \",str(RMSE_test))\n",
    "print('RSquared value on train:',lasso_tr)\n",
    "print('RSquared value on test:',lasso_test)"
   ]
  },
  {
   "cell_type": "code",
   "execution_count": 75,
   "id": "c7b83703",
   "metadata": {},
   "outputs": [
    {
     "data": {
      "text/html": [
       "<style>#sk-container-id-2 {color: black;background-color: white;}#sk-container-id-2 pre{padding: 0;}#sk-container-id-2 div.sk-toggleable {background-color: white;}#sk-container-id-2 label.sk-toggleable__label {cursor: pointer;display: block;width: 100%;margin-bottom: 0;padding: 0.3em;box-sizing: border-box;text-align: center;}#sk-container-id-2 label.sk-toggleable__label-arrow:before {content: \"▸\";float: left;margin-right: 0.25em;color: #696969;}#sk-container-id-2 label.sk-toggleable__label-arrow:hover:before {color: black;}#sk-container-id-2 div.sk-estimator:hover label.sk-toggleable__label-arrow:before {color: black;}#sk-container-id-2 div.sk-toggleable__content {max-height: 0;max-width: 0;overflow: hidden;text-align: left;background-color: #f0f8ff;}#sk-container-id-2 div.sk-toggleable__content pre {margin: 0.2em;color: black;border-radius: 0.25em;background-color: #f0f8ff;}#sk-container-id-2 input.sk-toggleable__control:checked~div.sk-toggleable__content {max-height: 200px;max-width: 100%;overflow: auto;}#sk-container-id-2 input.sk-toggleable__control:checked~label.sk-toggleable__label-arrow:before {content: \"▾\";}#sk-container-id-2 div.sk-estimator input.sk-toggleable__control:checked~label.sk-toggleable__label {background-color: #d4ebff;}#sk-container-id-2 div.sk-label input.sk-toggleable__control:checked~label.sk-toggleable__label {background-color: #d4ebff;}#sk-container-id-2 input.sk-hidden--visually {border: 0;clip: rect(1px 1px 1px 1px);clip: rect(1px, 1px, 1px, 1px);height: 1px;margin: -1px;overflow: hidden;padding: 0;position: absolute;width: 1px;}#sk-container-id-2 div.sk-estimator {font-family: monospace;background-color: #f0f8ff;border: 1px dotted black;border-radius: 0.25em;box-sizing: border-box;margin-bottom: 0.5em;}#sk-container-id-2 div.sk-estimator:hover {background-color: #d4ebff;}#sk-container-id-2 div.sk-parallel-item::after {content: \"\";width: 100%;border-bottom: 1px solid gray;flex-grow: 1;}#sk-container-id-2 div.sk-label:hover label.sk-toggleable__label {background-color: #d4ebff;}#sk-container-id-2 div.sk-serial::before {content: \"\";position: absolute;border-left: 1px solid gray;box-sizing: border-box;top: 0;bottom: 0;left: 50%;z-index: 0;}#sk-container-id-2 div.sk-serial {display: flex;flex-direction: column;align-items: center;background-color: white;padding-right: 0.2em;padding-left: 0.2em;position: relative;}#sk-container-id-2 div.sk-item {position: relative;z-index: 1;}#sk-container-id-2 div.sk-parallel {display: flex;align-items: stretch;justify-content: center;background-color: white;position: relative;}#sk-container-id-2 div.sk-item::before, #sk-container-id-2 div.sk-parallel-item::before {content: \"\";position: absolute;border-left: 1px solid gray;box-sizing: border-box;top: 0;bottom: 0;left: 50%;z-index: -1;}#sk-container-id-2 div.sk-parallel-item {display: flex;flex-direction: column;z-index: 1;position: relative;background-color: white;}#sk-container-id-2 div.sk-parallel-item:first-child::after {align-self: flex-end;width: 50%;}#sk-container-id-2 div.sk-parallel-item:last-child::after {align-self: flex-start;width: 50%;}#sk-container-id-2 div.sk-parallel-item:only-child::after {width: 0;}#sk-container-id-2 div.sk-dashed-wrapped {border: 1px dashed gray;margin: 0 0.4em 0.5em 0.4em;box-sizing: border-box;padding-bottom: 0.4em;background-color: white;}#sk-container-id-2 div.sk-label label {font-family: monospace;font-weight: bold;display: inline-block;line-height: 1.2em;}#sk-container-id-2 div.sk-label-container {text-align: center;}#sk-container-id-2 div.sk-container {/* jupyter's `normalize.less` sets `[hidden] { display: none; }` but bootstrap.min.css set `[hidden] { display: none !important; }` so we also need the `!important` here to be able to override the default hidden behavior on the sphinx rendered scikit-learn.org. See: https://github.com/scikit-learn/scikit-learn/issues/21755 */display: inline-block !important;position: relative;}#sk-container-id-2 div.sk-text-repr-fallback {display: none;}</style><div id=\"sk-container-id-2\" class=\"sk-top-container\"><div class=\"sk-text-repr-fallback\"><pre>AdaBoostClassifier(n_estimators=100)</pre><b>In a Jupyter environment, please rerun this cell to show the HTML representation or trust the notebook. <br />On GitHub, the HTML representation is unable to render, please try loading this page with nbviewer.org.</b></div><div class=\"sk-container\" hidden><div class=\"sk-item\"><div class=\"sk-estimator sk-toggleable\"><input class=\"sk-toggleable__control sk-hidden--visually\" id=\"sk-estimator-id-2\" type=\"checkbox\" checked><label for=\"sk-estimator-id-2\" class=\"sk-toggleable__label sk-toggleable__label-arrow\">AdaBoostClassifier</label><div class=\"sk-toggleable__content\"><pre>AdaBoostClassifier(n_estimators=100)</pre></div></div></div></div></div>"
      ],
      "text/plain": [
       "AdaBoostClassifier(n_estimators=100)"
      ]
     },
     "execution_count": 75,
     "metadata": {},
     "output_type": "execute_result"
    }
   ],
   "source": [
    "#AdaBoost Classifier\n",
    "from sklearn.ensemble import AdaBoostClassifier\n",
    "ada = AdaBoostClassifier(n_estimators=100)\n",
    "ada_score_tr = cross_val_score(ada, X_train2, Y_train2, cv = 5)\n",
    "ada_score_test = cross_val_score(ada, X_test2, Y_test2, cv = 5)\n",
    "\n",
    "ada.fit(X_train2, Y_train2)"
   ]
  },
  {
   "cell_type": "code",
   "execution_count": 78,
   "id": "9ee4551f",
   "metadata": {},
   "outputs": [
    {
     "name": "stdout",
     "output_type": "stream",
     "text": [
      "Model accuracy on test is:  0.7530843798193435\n",
      "Model accuracy on train is:  0.7530339100261317\n",
      "KappaScore is:  0.6062869642074027\n"
     ]
    }
   ],
   "source": [
    "preds = ada.predict(X_test2)\n",
    "preds_train = ada.predict(X_train2)\n",
    "\n",
    "cm = confusion_matrix(Y_test2,preds)\n",
    "cm\n",
    "\n",
    "print(\"Model accuracy on test is: \", accuracy_score(Y_test2, preds))\n",
    "print(\"Model accuracy on train is: \", accuracy_score(Y_train2, preds_train))\n",
    "\n",
    "# Kappa Score\n",
    "print('KappaScore is: ', metrics.cohen_kappa_score(Y_test2,preds))"
   ]
  },
  {
   "cell_type": "code",
   "execution_count": 82,
   "id": "30a990bb",
   "metadata": {},
   "outputs": [
    {
     "name": "stdout",
     "output_type": "stream",
     "text": [
      "Accuracy: 99.97%\n",
      "KappaScore is:  0.9996055458783337\n"
     ]
    }
   ],
   "source": [
    "#XGBoost\n",
    "from xgboost import XGBClassifier\n",
    "\n",
    "xgb = XGBClassifier()\n",
    "xgb.fit(X_train2, Y_train2)\n",
    "\n",
    "preds_test = xgb.predict(X_test2)\n",
    "\n",
    "accuracy = accuracy_score(Y_test2, preds_test)\n",
    "print(\"Accuracy: %.2f%%\" % (accuracy * 100.0))\n",
    "\n",
    "print('KappaScore is: ', metrics.cohen_kappa_score(Y_test2,preds_test))"
   ]
  },
  {
   "cell_type": "code",
   "execution_count": null,
   "id": "92df3686",
   "metadata": {},
   "outputs": [],
   "source": []
  }
 ],
 "metadata": {
  "kernelspec": {
   "display_name": "Python 3",
   "language": "python",
   "name": "python3"
  },
  "language_info": {
   "codemirror_mode": {
    "name": "ipython",
    "version": 3
   },
   "file_extension": ".py",
   "mimetype": "text/x-python",
   "name": "python",
   "nbconvert_exporter": "python",
   "pygments_lexer": "ipython3",
   "version": "3.11.1 (tags/v3.11.1:a7a450f, Dec  6 2022, 19:58:39) [MSC v.1934 64 bit (AMD64)]"
  },
  "vscode": {
   "interpreter": {
    "hash": "5238573367df39f7286bb46f9ff5f08f63a01a80960060ce41e3c79b190280fa"
   }
  }
 },
 "nbformat": 4,
 "nbformat_minor": 5
}
